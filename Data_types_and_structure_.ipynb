{
  "nbformat": 4,
  "nbformat_minor": 0,
  "metadata": {
    "colab": {
      "provenance": []
    },
    "kernelspec": {
      "name": "python3",
      "display_name": "Python 3"
    },
    "language_info": {
      "name": "python"
    }
  },
  "cells": [
    {
      "cell_type": "markdown",
      "source": [
        "1. What are data structures, and why are they important ?\n",
        ">>> Data structures are specialized formats for organizing, storing, and accessing collections of data. They provide efficient ways to manage information based on its characteristics and intended use.\n",
        "**Its importance**\n",
        "Choosing the right data structure significantly impacts the efficiency and performance of your program.\n",
        "Well-chosen data structures can:\n",
        "Simplify data manipulation (adding, removing, modifying elements)\n",
        "Optimize searching and sorting operations\n",
        "Conserve memory usage\n",
        "\n",
        "2. Explain the difference between mutable and immutable data types with examples\n",
        ">>> Mutable data types are objects whose values can be changed after they are created. This means you can modify the internal state of the object without creating a new object.\n",
        "Examples - list: You can add, remove, or modify elements within a list.\n",
        "dict (dictionary): You can add, remove, or update key-value pairs in a dictionary.\n",
        "set: You can add or remove elements from a set.\n",
        "Immutable data types are objects whose values cannot be changed after they are created. Any operation that appears to modify an immutable object actually creates a new object with the modified value.\n",
        "Examples - int: You cannot change the value of an integer. When you perform an operation like addition, a new integer object is created with the result.\n",
        "float: Similar to integers, floats are immutable.\n",
        "str (string): Strings cannot be modified in-place. Operations like concatenation create new strings.\n",
        "tuple: Tuples are like immutable lists. Once created, you cannot change their elements.\n",
        "\n",
        "3. What are the main differences between lists and tuples in Python ?\n",
        ">>> Lists:\n",
        "Mutable: You can change their elements after creation.\n",
        "Defined using square brackets: my_list = [1, 2, 3]\n",
        "Generally used for collections of items that may need modification.\n",
        "Tuples:\n",
        "Immutable: You cannot change their elements after creation.\n",
        "Defined using parentheses: my_tuple = (1, 2, 3)\n",
        "Generally used for collections of items that should remain constant.\n",
        "\n",
        "4.  Describe how dictionaries store data.\n",
        ">>> Dictionaries in Python store data as key-value pairs. Each key is unique and associated with a value.\n",
        "Think of it like a real dictionary:\n",
        "Keys are the words you look up (e.g., \"apple\").\n",
        "Values are the definitions of those words (e.g., \"a round fruit\").\n",
        "Accessing data: You use the key to retrieve its corresponding value.\n",
        "\n",
        "5. Why might you use a set instead of a list in Python ?\n",
        ">>> Uniqueness is important: Sets automatically ensure that all elements are unique, eliminating duplicates.\n",
        "Membership testing is frequent: Checking if an element is present in a set is very fast.\n",
        "Order doesn't matter: Sets don't preserve the order of elements, unlike lists.\n",
        "\n",
        "6. What is a string in Python, and how is it different from a list ?\n",
        ">>> Mutability: Strings are immutable, while lists are mutable.\n",
        "Data types: Strings hold only characters, while lists can hold various data types (including numbers, strings, and even other lists).\n",
        "Syntax: Strings use quotes (' or \") Example: \"hello\", while lists use square brackets ([]). Example: [1, 2, 'a'].\n",
        "\n",
        "7. How do tuples ensure data integrity in Python ?\n",
        ">>> Tuples ensure data integrity in Python by being immutable, meaning once they are created, their elements cannot be changed, added, or removed. This prevents accidental modification of data, preserving its original state throughout the program.\n",
        "\n",
        "8. What is a hash table, and how does it relate to dictionaries in Python ?\n",
        ">>> A **hash table** stores data as key-value pairs, using a hash function for fast lookups. In Python, **dictionaries** are implemented using hash tables, allowing efficient access to values via keys.\n",
        "my_dict = {\"name\": \"Alice\", \"age\": 25}\n",
        "Here, the keys \"name\" and \"age\" are hashed to quickly access their associated values.\n",
        "\n",
        "9. Can lists contain different data types in Python ?\n",
        ">>> Yes, lists in Python can contain different data types. A single list can store integers, strings, floats, and even other lists or objects.\n",
        "Example:\n",
        "my_list = [1, \"hello\", 3.14, [2, 3]]\n",
        "\n",
        "10. Explain why strings are immutable in Python.\n",
        ">>> Strings are **immutable** in Python to improve **memory efficiency**, ensure **thread safety**, support use as **dictionary keys**, and enable **performance optimizations** like string interning.\n",
        "\n",
        "11. What advantages do dictionaries offer over lists for certain tasks ?\n",
        ">>> Dictionaries offer **faster lookups** (O(1) access time), store data as **key-value pairs**, and ensure **unique keys**, making them more efficient than lists for tasks requiring fast access and data mapping.\n",
        "\n",
        "12.  Describe a scenario where using a tuple would be preferable over a list.\n",
        ">>> A tuple is preferable over a list when you need to store **immutable** data, such as a set of coordinates `(x, y)` or constant configuration values, where the data should not be modified. This ensures data integrity and can improve performance due to immutability.\n",
        "\n",
        "13. How do sets handle duplicate values in Python ?\n",
        ">>> Sets in Python automatically **remove duplicate values**. If you try to add a duplicate element, it will be ignored, ensuring that each element in a set is unique.\n",
        "\n",
        "14.  How does the “in” keyword work differently for lists and dictionaries ?\n",
        ">>> In Python:\n",
        "- For **lists**, the `\"in\"` keyword checks if a value **exists** in the list. It performs a linear search, so it has **O(n)** time complexity.\n",
        "  Example:\n",
        "  my_list = [1, 2, 3]\n",
        "  2 in my_list  # Returns True\n",
        "- For **dictionaries**, the `\"in\"` keyword checks if a **key** exists in the dictionary, not the value. It performs a fast **hash lookup**, so it has **O(1)** time complexity.\n",
        "  Example:\n",
        "  my_dict = {\"a\": 1, \"b\": 2}\n",
        "  \"a\" in my_dict  # Returns True\n",
        "\n",
        "15. Can you modify the elements of a tuple? Explain why or why not ?\n",
        ">>> No, you cannot modify the elements of a tuple because tuples are **immutable** in Python. Once created, their contents cannot be changed, added, or removed to ensure data integrity and optimize performance.\n",
        "\n",
        "16. What is a nested dictionary, and give an example of its use case ?\n",
        ">>> A **nested dictionary** is a dictionary where the values themselves are dictionaries. It allows you to represent more complex data structures, such as hierarchical relationships.\n",
        "**Example use case**: Storing student information, where each student has multiple attributes like name, age, and subjects.\n",
        "python\n",
        "students = { \"Alice\": {\"age\": 20, \"subjects\": [\"Math\", \"Science\"]},\n",
        "    \"Bob\": {\"age\": 22, \"subjects\": [\"History\", \"Art\"]}}\n",
        "In this case, the outer dictionary stores student names as keys, and each student's information is stored in an inner dictionary.\n",
        "\n",
        "17. Describe the time complexity of accessing elements in a dictionary\n",
        ">>> The time complexity of accessing elements in a **dictionary** is **O(1)** on average. This is because dictionaries use a **hash table** to store key-value pairs, allowing for fast lookups by directly hashing the key to its corresponding value. However, in rare cases (e.g., hash collisions), it can degrade to **O(n)**, but this is uncommon.\n",
        "\n",
        "18. In what situations are lists preferred over dictionaries\n",
        ">>> Lists are preferred over dictionaries when you need to store **ordered** collections of items, especially when the order matters or when you need to access elements by **index** rather than a key. Lists are also more suitable when you have a small number of items or need to **iterate over** elements in sequence.\n",
        "Example: Storing a collection of numbers for sorting or performing operations on each item.\n",
        "\n",
        "19. Why are dictionaries considered unordered, and how does that affect data retrieval ?\n",
        ">>> Dictionaries are **unordered** because their keys are stored in a hash table, not in any specific order. This allows for fast lookups (O(1)), but the order of elements is not guaranteed (except in Python 3.7+ where insertion order is preserved).\n",
        "\n",
        "20. Explain the difference between a list and a dictionary in terms of data retrieval.\n",
        ">>> In a **list**, data is retrieved by **index** (e.g., `my_list[0]`), which is ordered and sequential, making access slower (O(n) for searching).\n",
        "In a **dictionary**, data is retrieved by **key** (e.g., `my_dict[\"key\"]`), allowing for **faster** access (O(1) on average) due to hash-based lookups.\n",
        "\n",
        "\n",
        "\n",
        "\n"
      ],
      "metadata": {
        "id": "HjLAr0mJ70BI"
      }
    },
    {
      "cell_type": "code",
      "source": [
        "# Practical Questions"
      ],
      "metadata": {
        "id": "vneRsikRBjQY"
      },
      "execution_count": 1,
      "outputs": []
    },
    {
      "cell_type": "code",
      "source": [
        "#1 Write a code to create a string with your name and print it.\n",
        "my_name = \" Justin\"  # Replace with your name\n",
        "print(my_name)\n"
      ],
      "metadata": {
        "colab": {
          "base_uri": "https://localhost:8080/"
        },
        "id": "q9PELSEcQ8Jz",
        "outputId": "73bebac4-d112-419c-85b3-e2c9417e69e9"
      },
      "execution_count": 2,
      "outputs": [
        {
          "output_type": "stream",
          "name": "stdout",
          "text": [
            " Justin\n"
          ]
        }
      ]
    },
    {
      "cell_type": "code",
      "source": [
        "#2 Write a code to find the length of the string \"Hello World\".\n",
        "string = \"Hello World\"\n",
        "length = len(string)\n",
        "print(length)"
      ],
      "metadata": {
        "colab": {
          "base_uri": "https://localhost:8080/"
        },
        "id": "PKPZiR4GRetg",
        "outputId": "abf4ff1e-090a-4067-884d-44f12ddd6105"
      },
      "execution_count": 11,
      "outputs": [
        {
          "output_type": "stream",
          "name": "stdout",
          "text": [
            "11\n"
          ]
        }
      ]
    },
    {
      "cell_type": "code",
      "source": [
        "#3 Write a code to slice the first 3 characters from the string \"Python Programming\".\n",
        "a = \"Python Programming\"\n",
        "sliced_string = a[:3]\n",
        "print(sliced_string)"
      ],
      "metadata": {
        "colab": {
          "base_uri": "https://localhost:8080/"
        },
        "id": "xQbp1eupRiFd",
        "outputId": "d1ba2b79-50b2-481a-ff75-e95f562ca4f9"
      },
      "execution_count": 13,
      "outputs": [
        {
          "output_type": "stream",
          "name": "stdout",
          "text": [
            "Pyt\n"
          ]
        }
      ]
    },
    {
      "cell_type": "code",
      "source": [
        "#4 Write a code to convert the string \"hello\" to uppercase.\n",
        "a = \"hello\"\n",
        "a.upper()"
      ],
      "metadata": {
        "colab": {
          "base_uri": "https://localhost:8080/",
          "height": 35
        },
        "id": "endNN0TVRjN0",
        "outputId": "e3daa91b-7430-4460-f546-a00f08c023e1"
      },
      "execution_count": 15,
      "outputs": [
        {
          "output_type": "execute_result",
          "data": {
            "text/plain": [
              "'HELLO'"
            ],
            "application/vnd.google.colaboratory.intrinsic+json": {
              "type": "string"
            }
          },
          "metadata": {},
          "execution_count": 15
        }
      ]
    },
    {
      "cell_type": "code",
      "source": [
        "#5 Write a code to replace the word \"apple\" with \"orange\" in the string \"I like apple\".\n",
        "a = \"I like apple\"\n",
        "a.replace(\"apple\", \"orange\")"
      ],
      "metadata": {
        "colab": {
          "base_uri": "https://localhost:8080/",
          "height": 35
        },
        "id": "h8cxzJqbRjwN",
        "outputId": "363e01cf-6485-43b2-ceb6-2a420bddea2e"
      },
      "execution_count": 16,
      "outputs": [
        {
          "output_type": "execute_result",
          "data": {
            "text/plain": [
              "'I like orange'"
            ],
            "application/vnd.google.colaboratory.intrinsic+json": {
              "type": "string"
            }
          },
          "metadata": {},
          "execution_count": 16
        }
      ]
    },
    {
      "cell_type": "code",
      "source": [
        "#6 Write a code to create a list with numbers 1 to 5 and print it.\n",
        "a = range(1, 6)\n",
        "my_list = list(a)\n",
        "print(my_list)"
      ],
      "metadata": {
        "colab": {
          "base_uri": "https://localhost:8080/"
        },
        "id": "PgSrOJDuRkRE",
        "outputId": "7e9ca40d-2a01-4a5f-ab45-33604b824402"
      },
      "execution_count": 18,
      "outputs": [
        {
          "output_type": "stream",
          "name": "stdout",
          "text": [
            "[1, 2, 3, 4, 5]\n"
          ]
        }
      ]
    },
    {
      "cell_type": "code",
      "source": [
        "#7 Write a code to append the number 10 to the list [1, 2, 3, 4]\n",
        "a = [1, 2, 3, 4]\n",
        "a.append(10)\n",
        "print(a)\n"
      ],
      "metadata": {
        "colab": {
          "base_uri": "https://localhost:8080/"
        },
        "id": "3IggOYSwRlAc",
        "outputId": "6ffea321-2d2b-430e-87df-490c94c1b32d"
      },
      "execution_count": 19,
      "outputs": [
        {
          "output_type": "stream",
          "name": "stdout",
          "text": [
            "[1, 2, 3, 4, 10]\n"
          ]
        }
      ]
    },
    {
      "cell_type": "code",
      "source": [
        "#8 Write a code to remove the number 3 from the list [1, 2, 3, 4, 5]\n",
        "a = [1, 2, 3, 4, 5]\n",
        "a.remove(3)\n",
        "print(a)"
      ],
      "metadata": {
        "colab": {
          "base_uri": "https://localhost:8080/"
        },
        "id": "qsFYxStmRllM",
        "outputId": "5b503556-3860-4fca-9e09-856ae347d6b4"
      },
      "execution_count": 20,
      "outputs": [
        {
          "output_type": "stream",
          "name": "stdout",
          "text": [
            "[1, 2, 4, 5]\n"
          ]
        }
      ]
    },
    {
      "cell_type": "code",
      "source": [
        "#9 Write a code to access the second element in the list ['a', 'b', 'c', 'd']\n",
        "my_list = ['a', 'b', 'c', 'd']\n",
        "my_list[1]\n"
      ],
      "metadata": {
        "colab": {
          "base_uri": "https://localhost:8080/",
          "height": 35
        },
        "id": "8p-0ZCdwRmYG",
        "outputId": "8f3a0bca-cda4-4fa1-fafc-8757dc31deac"
      },
      "execution_count": 21,
      "outputs": [
        {
          "output_type": "execute_result",
          "data": {
            "text/plain": [
              "'b'"
            ],
            "application/vnd.google.colaboratory.intrinsic+json": {
              "type": "string"
            }
          },
          "metadata": {},
          "execution_count": 21
        }
      ]
    },
    {
      "cell_type": "code",
      "source": [
        "#10 Write a code to reverse the list [10, 20, 30, 40, 50]\n",
        "a = [10, 20, 30, 40, 50]\n",
        "a[::-1]"
      ],
      "metadata": {
        "colab": {
          "base_uri": "https://localhost:8080/"
        },
        "id": "x_G9stW-Rm9w",
        "outputId": "8ef732fa-188c-416a-de6d-899c90325b25"
      },
      "execution_count": 22,
      "outputs": [
        {
          "output_type": "execute_result",
          "data": {
            "text/plain": [
              "[50, 40, 30, 20, 10]"
            ]
          },
          "metadata": {},
          "execution_count": 22
        }
      ]
    },
    {
      "cell_type": "code",
      "source": [
        "#11 Write a code to create a tuple with the elements 10, 20, 30 and print it\n",
        "a = (10, 20, 30)\n",
        "print(a)"
      ],
      "metadata": {
        "colab": {
          "base_uri": "https://localhost:8080/"
        },
        "id": "ILjVgDNETwIz",
        "outputId": "5f27251c-f8b3-4361-f9cd-f9dcdab0def2"
      },
      "execution_count": 33,
      "outputs": [
        {
          "output_type": "stream",
          "name": "stdout",
          "text": [
            "(10, 20, 30)\n"
          ]
        }
      ]
    },
    {
      "cell_type": "code",
      "source": [
        "#12 Write a code to access the first element of the tuple ('apple', 'banana', 'cherry')\n",
        "a = ('apple', 'banana', 'cherry')\n",
        "a[0]"
      ],
      "metadata": {
        "colab": {
          "base_uri": "https://localhost:8080/",
          "height": 35
        },
        "id": "V_rhHc5UV9yJ",
        "outputId": "198253cc-6252-49a6-cab4-a4e7c44d94c3"
      },
      "execution_count": 34,
      "outputs": [
        {
          "output_type": "execute_result",
          "data": {
            "text/plain": [
              "'apple'"
            ],
            "application/vnd.google.colaboratory.intrinsic+json": {
              "type": "string"
            }
          },
          "metadata": {},
          "execution_count": 34
        }
      ]
    },
    {
      "cell_type": "code",
      "source": [
        "#13 Write a code to count how many times the number 2 appears in the tuple (1, 2, 3, 2, 4, 2)\n",
        "a = (1, 2, 3, 2, 4, 2)\n",
        "a.count(2)"
      ],
      "metadata": {
        "colab": {
          "base_uri": "https://localhost:8080/"
        },
        "id": "rkS2qsEMV-jb",
        "outputId": "c294e57a-681b-4358-a5eb-f16f1e26e400"
      },
      "execution_count": 35,
      "outputs": [
        {
          "output_type": "execute_result",
          "data": {
            "text/plain": [
              "3"
            ]
          },
          "metadata": {},
          "execution_count": 35
        }
      ]
    },
    {
      "cell_type": "code",
      "source": [
        "#14 Write a code to find the index of the element \"cat\" in the tuple ('dog', 'cat', 'rabbit')\n",
        "a = ('dog', 'cat', 'rabbit')\n",
        "a.index('cat')"
      ],
      "metadata": {
        "colab": {
          "base_uri": "https://localhost:8080/"
        },
        "id": "ahmi-snHV_I0",
        "outputId": "6b821090-21cb-4fc6-aeba-f412f8ec20b1"
      },
      "execution_count": 36,
      "outputs": [
        {
          "output_type": "execute_result",
          "data": {
            "text/plain": [
              "1"
            ]
          },
          "metadata": {},
          "execution_count": 36
        }
      ]
    },
    {
      "cell_type": "code",
      "source": [
        "#15 Write a code to check if the element \"banana\" is in the tuple ('apple', 'orange', 'banana')\n",
        "a = ('apple', 'orange', 'banana')\n",
        "'banana' in a"
      ],
      "metadata": {
        "colab": {
          "base_uri": "https://localhost:8080/"
        },
        "id": "XmjCXHrCV_-i",
        "outputId": "ba4ca294-9503-4f16-9985-f26f701b6725"
      },
      "execution_count": 37,
      "outputs": [
        {
          "output_type": "execute_result",
          "data": {
            "text/plain": [
              "True"
            ]
          },
          "metadata": {},
          "execution_count": 37
        }
      ]
    },
    {
      "cell_type": "code",
      "source": [
        "#16 Write a code to create a set with the elements 1, 2, 3, 4, 5 and print it\n",
        "a = {1, 2, 3, 4, 5}\n",
        "print(a)"
      ],
      "metadata": {
        "colab": {
          "base_uri": "https://localhost:8080/"
        },
        "id": "zZ-M7Gt9WArd",
        "outputId": "4e12e7eb-9c12-4aaa-89e9-d28a212b766c"
      },
      "execution_count": 38,
      "outputs": [
        {
          "output_type": "stream",
          "name": "stdout",
          "text": [
            "{1, 2, 3, 4, 5}\n"
          ]
        }
      ]
    },
    {
      "cell_type": "code",
      "source": [
        "#17 Write a code to add the element 6 to the set {1, 2, 3, 4}\n",
        "a = {1, 2, 3, 4}\n",
        "a.add(6)\n",
        "print(a)"
      ],
      "metadata": {
        "colab": {
          "base_uri": "https://localhost:8080/"
        },
        "id": "A8_Ske8sWBW4",
        "outputId": "2c7170da-a760-4778-dcef-a48f1c83f35a"
      },
      "execution_count": 39,
      "outputs": [
        {
          "output_type": "stream",
          "name": "stdout",
          "text": [
            "{1, 2, 3, 4, 6}\n"
          ]
        }
      ]
    },
    {
      "cell_type": "code",
      "source": [
        "#18 Write a code to create a tuple with the elements 10, 20, 30 and print it\n",
        "a = tuple(range(10,31,10))\n",
        "print(a)"
      ],
      "metadata": {
        "colab": {
          "base_uri": "https://localhost:8080/"
        },
        "id": "JTT62SooWCH5",
        "outputId": "9ca2f745-4bfd-45dd-c6ab-20a029d3841a"
      },
      "execution_count": 48,
      "outputs": [
        {
          "output_type": "stream",
          "name": "stdout",
          "text": [
            "(10, 20, 30)\n"
          ]
        }
      ]
    },
    {
      "cell_type": "code",
      "source": [
        "#19 Write a code to access the first element of the tuple ('apple', 'banana', 'cherry')\n",
        "a = ('apple', 'banana', 'cherry')\n",
        "a[0]"
      ],
      "metadata": {
        "colab": {
          "base_uri": "https://localhost:8080/",
          "height": 35
        },
        "id": "3aX1GRnHWD3A",
        "outputId": "20ff7363-448d-4a69-df6f-f59c5baa39f9"
      },
      "execution_count": 43,
      "outputs": [
        {
          "output_type": "execute_result",
          "data": {
            "text/plain": [
              "'apple'"
            ],
            "application/vnd.google.colaboratory.intrinsic+json": {
              "type": "string"
            }
          },
          "metadata": {},
          "execution_count": 43
        }
      ]
    },
    {
      "cell_type": "code",
      "source": [
        "#20 Write a code to count how many times the number 2 appears in the tuple (1, 2, 3, 2, 4, 2)\n",
        "a = (1, 2, 3, 2, 4, 2)\n",
        "a.count(2)"
      ],
      "metadata": {
        "colab": {
          "base_uri": "https://localhost:8080/"
        },
        "id": "t5-z9tSpWEnF",
        "outputId": "ae492952-f301-4608-a122-19d223f95c29"
      },
      "execution_count": 53,
      "outputs": [
        {
          "output_type": "execute_result",
          "data": {
            "text/plain": [
              "3"
            ]
          },
          "metadata": {},
          "execution_count": 53
        }
      ]
    },
    {
      "cell_type": "code",
      "source": [
        "#21 Write a code to find the index of the element \"cat\" in the tuple ('dog', 'cat', 'rabbit')\n",
        "a = ('dog', 'cat', 'rabbit')\n",
        "a.index('cat')"
      ],
      "metadata": {
        "colab": {
          "base_uri": "https://localhost:8080/"
        },
        "id": "7D8ZNYIKWGPB",
        "outputId": "948eaf41-6364-4cf0-eed6-a68574e46d16"
      },
      "execution_count": 54,
      "outputs": [
        {
          "output_type": "execute_result",
          "data": {
            "text/plain": [
              "1"
            ]
          },
          "metadata": {},
          "execution_count": 54
        }
      ]
    },
    {
      "cell_type": "code",
      "source": [
        "#22 Write a code to check if the element \"banana\" is in the tuple ('apple', 'orange', 'banana')\n",
        "a = ('apple', 'orange', 'banana')\n",
        "'banana' in a"
      ],
      "metadata": {
        "colab": {
          "base_uri": "https://localhost:8080/"
        },
        "id": "fRT_sJF_YdqI",
        "outputId": "e5de4bc4-dd58-411c-a2f7-8d7f1b6303a0"
      },
      "execution_count": 55,
      "outputs": [
        {
          "output_type": "execute_result",
          "data": {
            "text/plain": [
              "True"
            ]
          },
          "metadata": {},
          "execution_count": 55
        }
      ]
    },
    {
      "cell_type": "code",
      "source": [
        "#23 Write a code to create a set with the elements 1, 2, 3, 4, 5 and print it\n",
        "a = set(range(1,6))\n",
        "print(a)"
      ],
      "metadata": {
        "colab": {
          "base_uri": "https://localhost:8080/"
        },
        "id": "bPocXkKrYefh",
        "outputId": "4c75e7a0-9173-413d-c1ee-623e5774443c"
      },
      "execution_count": 56,
      "outputs": [
        {
          "output_type": "stream",
          "name": "stdout",
          "text": [
            "{1, 2, 3, 4, 5}\n"
          ]
        }
      ]
    },
    {
      "cell_type": "code",
      "source": [
        "#24 Write a code to add the element 6 to the set {1, 2, 3, 4}\n",
        "a = {1, 2, 3, 4}\n",
        "a.add(6)\n",
        "a"
      ],
      "metadata": {
        "colab": {
          "base_uri": "https://localhost:8080/"
        },
        "id": "jQO9UDDgYfBk",
        "outputId": "9ad68837-6580-436e-a514-874439c40e23"
      },
      "execution_count": 58,
      "outputs": [
        {
          "output_type": "execute_result",
          "data": {
            "text/plain": [
              "{1, 2, 3, 4, 6}"
            ]
          },
          "metadata": {},
          "execution_count": 58
        }
      ]
    },
    {
      "cell_type": "code",
      "source": [],
      "metadata": {
        "id": "E2mauhu_ZPnJ"
      },
      "execution_count": null,
      "outputs": []
    }
  ]
}